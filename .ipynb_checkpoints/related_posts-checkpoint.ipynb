{
 "cells": [
  {
   "cell_type": "code",
   "execution_count": 1,
   "metadata": {
    "collapsed": true
   },
   "outputs": [],
   "source": [
    "import frontmatter\n",
    "import glob\n",
    "import yaml\n",
    "import string\n",
    "from konlpy.tag import Komoran\n",
    "from sklearn.feature_extraction.text import TfidfVectorizer\n",
    "\n",
    "def get_posts(folder='C:/Users/Jay/blog/_posts'):\n",
    "    result = {}\n",
    "    for filepath in glob.glob(folder + \"/*\"):\n",
    "        filename = filepath.split('\\\\')[-1]\n",
    "        slug = filename[11:-3]\n",
    "        post = frontmatter.load(filepath)\n",
    "        if \"slug\" in post.keys():\n",
    "            slug = post[\"slug\"]\n",
    "        result[slug] = post.content\n",
    "    return result\n",
    "\n",
    "\n",
    "def write_result_to_file(related, file='C:/Users/Jay/blog/_data/related.yml'):\n",
    "    data = []\n",
    "    for r in related:\n",
    "        r = {\n",
    "            'post': r,\n",
    "            'related': related[r]}\n",
    "        data.append(r)\n",
    "    with open(file, 'w') as f:\n",
    "        yaml.dump(data, f, default_flow_style=False)\n",
    "\n",
    "stemmer = Komoran()\n",
    "\n",
    "def tokenize(text):\n",
    "    #stems = stemmer.pos(text)\n",
    "    stems = stemmer.nouns(text)\n",
    "    return [stem[0] for stem in stems]\n",
    "\n",
    "\n",
    "def cosine_sim(text1, text2, vectorizer):\n",
    "    tfidf = vectorizer.fit_transform([text1, text2])\n",
    "    return ((tfidf * tfidf.T).A)[0, 1]\n",
    "\n",
    "def get_similarity(num_best=5):\n",
    "    vectorizer = TfidfVectorizer(tokenizer=tokenize)\n",
    "    posts = get_posts()\n",
    "    cleaned_posts = {slug: post.lower().translate(str.maketrans('', '', string.punctuation)) for slug, post in posts.items()}\n",
    "    slugs = list(cleaned_posts.keys())\n",
    "\n",
    "    tfidf = vectorizer.fit_transform(list(cleaned_posts.values()))\n",
    "    matrix = (tfidf * tfidf.T).A\n",
    "\n",
    "    result = {}\n",
    "    for i, row in enumerate(matrix):\n",
    "        indices = row.argsort()[-num_best-1:-1][::-1]\n",
    "        current_slug = slugs[i]\n",
    "        result[current_slug] = [slugs[index] for index in indices]\n",
    "    write_result_to_file(result)\n",
    "\n",
    "\n",
    "get_similarity()"
   ]
  }
 ],
 "metadata": {
  "kernelspec": {
   "display_name": "Python 3",
   "language": "python",
   "name": "python3"
  },
  "language_info": {
   "codemirror_mode": {
    "name": "ipython",
    "version": 3
   },
   "file_extension": ".py",
   "mimetype": "text/x-python",
   "name": "python",
   "nbconvert_exporter": "python",
   "pygments_lexer": "ipython3",
   "version": "3.6.3"
  }
 },
 "nbformat": 4,
 "nbformat_minor": 2
}
